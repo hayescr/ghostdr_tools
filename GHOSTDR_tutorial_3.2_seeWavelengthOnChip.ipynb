{
 "cells": [
  {
   "cell_type": "markdown",
   "id": "18db0bd2",
   "metadata": {},
   "source": [
    "# This notebook helps you examine sections of the the red and blue chips corresponding to specific wavelength ranges\n",
    "\n",
    "A GHOST echelle spectrum is a 2d image made up of many orders. Adjacent orders will overlap in terms of wavelength coverage. This allows us to extract signal for one wavelength from as many as three places on the chip. This also means that data qality problems can be introduced from 3 places. It can be useful to physically see the 2d section of the chip that is contributing to the flux for a certain wavelength. \n",
    "\n",
    "This notebook takes in a wavelength range, and prints cut-outs of the chip for each order that is contained within that range. \n",
    "\n",
    "Requires code from `GHOSTDR_tutorial_scripts as gts`.\n",
    "\n",
    "__note:__ getting a _tiledarrays.fits for an arc can be finicky. Using arc extraction weights in a _extractedProfile.fits may be an adequate replacement."
   ]
  },
  {
   "cell_type": "code",
   "execution_count": 1,
   "id": "4318c21a",
   "metadata": {},
   "outputs": [
    {
     "data": {
      "text/html": [
       "<style>.container { width:98% !important; }</style>"
      ],
      "text/plain": [
       "<IPython.core.display.HTML object>"
      ]
     },
     "metadata": {},
     "output_type": "display_data"
    },
    {
     "data": {
      "text/html": [
       "<style>.output_result { max-width:100% !important; }</style>"
      ],
      "text/plain": [
       "<IPython.core.display.HTML object>"
      ]
     },
     "metadata": {},
     "output_type": "display_data"
    }
   ],
   "source": [
    "import numpy as np\n",
    "import matplotlib.pyplot as plt\n",
    "import matplotlib\n",
    "import pandas as pd\n",
    "from mpl_toolkits.axes_grid1 import make_axes_locatable\n",
    "import os\n",
    "from astropy.io import fits\n",
    "from astropy.visualization import ZScaleInterval\n",
    "from scipy.interpolate import interp1d\n",
    "\n",
    "import GHOSTDR_tutorial_scripts as gts\n",
    "\n",
    "%matplotlib notebook\n",
    "\n",
    "from IPython.core.display import display, HTML\n",
    "display(HTML(\"<style>.container { width:98% !important; }</style>\"))\n",
    "display(HTML(\"<style>.output_result { max-width:100% !important; }</style>\"))\n",
    "# display(HTML(\"<style>.prompt { display:none !important; }</style>\"))"
   ]
  },
  {
   "cell_type": "markdown",
   "id": "5cfffefe",
   "metadata": {},
   "source": [
    "# Example with Red Camera\n",
    "\n",
    "Use Cell 1 to plot a spectrum interactively. Either use xmin/xmax presets, or crop manually using the interactive interface.\n",
    "\n",
    "Make sure to set your paths and camera arm.\n",
    "\n",
    "Then run Cell 2 to view the corresponding section of the chip. \n",
    "\n",
    "__note:__ You will get weird results in Cell 2 if you give it a very large wavelength range. 5-300 Angstroms wide is the useful range."
   ]
  },
  {
   "cell_type": "code",
   "execution_count": null,
   "id": "66725630",
   "metadata": {},
   "outputs": [],
   "source": [
    "############################################################################################################################\n",
    "# USER INPUTS for Cell 1\n",
    "specpath = '/Users/fwaller/Documents/GHOST/DATA/BPSCS31082/NORM/' #path to reduced spectra\n",
    "specfile = 'ARC_SR_300sx3_20220915_1x1_red3_sq_arc.fits' # reduced spectrum file\n",
    "camera = 'red' #set which camera\n",
    "xmin=5050\n",
    "xmax=11000\n",
    "############################################################################################################################\n",
    "\n",
    "############################################################################################################################\n",
    "#USER INPUTS for Cell 2\n",
    "calarcpath = '/Users/fwaller/Documents/GHOST/DATA/BPSCS31082/NORM/calibrations/processed_arc/' #path to the calibration frame. must be tiled 4 quadrants\n",
    "framefile='ARC_HR_300sx3_20220915_1x1_red3_arc_arraystiled.fits' #2D chip image\n",
    "flat='20220914_flat_rb6s03_1x1_hr_1x1_red5_flat.fits' #need this to get position model\n",
    "byPixel = False #do you want on-chip pixels lined up vertically?\n",
    "byWvl = True #do you want wavelengths lined up vertically?\n",
    "############################################################################################################################\n"
   ]
  },
  {
   "cell_type": "code",
   "execution_count": null,
   "id": "43439aec",
   "metadata": {},
   "outputs": [],
   "source": [
    "# Cell 1\n",
    "%matplotlib notebook\n",
    "\n",
    "#order presets by camera\n",
    "orderref = {'blue':35, 'red':34}\n",
    "mrefdict = {'blue': 80, 'red': 50}\n",
    "ordermindict = {'blue': 64, 'red': 33}\n",
    "\n",
    "plt.figure(figsize=(15,3))\n",
    "ax1 = plt.subplot(111)\n",
    "image = fits.open(specpath+specfile) \n",
    "wavemod = image[4].data  \n",
    "orderwave=[]\n",
    "m_ref = mrefdict[camera]\n",
    "yprimes = np.arange(image[1].data.shape[1])\n",
    "for i in range(orderref[camera]):\n",
    "    m = i + ordermindict[camera]\n",
    "    poly_w_model = np.poly1d([np.poly1d(wavemod[i,:])((m_ref/m)-1) for i in range(len(wavemod[:,0]))])\n",
    "    wave = poly_w_model(yprimes- (yprimes[-1]+1)//2)\n",
    "    orderwave.append(wave)\n",
    "    data = image[1].data[i-1,:,0]\n",
    "    plt.plot(wave,data) \n",
    "plt.xlim(xmin,xmax)\n",
    "plt.show()"
   ]
  },
  {
   "cell_type": "code",
   "execution_count": null,
   "id": "a3187975",
   "metadata": {
    "scrolled": false
   },
   "outputs": [],
   "source": [
    "# Cell 2\n",
    "\n",
    "#comment this next line out if you want to be able to crop other interactive plots. leave it in if you want the plots to take up less space\n",
    "# %matplotlib inline \n",
    "wmin,wmax = ax1.get_xlim() # use this line to grab wavelength limits from a spectrum plot with axes ax1\n",
    "gts.show2dCutout(wmin,wmax, path=calarcpath, file=framefile, flat=flat, camera=camera, pxl=byPixel, wvl=byWvl)"
   ]
  },
  {
   "cell_type": "markdown",
   "id": "cb2a0fa7",
   "metadata": {},
   "source": [
    "\n",
    "# Example with Blue Camera"
   ]
  },
  {
   "cell_type": "code",
   "execution_count": null,
   "id": "ca3637c8",
   "metadata": {},
   "outputs": [],
   "source": [
    "############################################################################################################################\n",
    "# USER INPUTS for Cell 1\n",
    "specpath = '/Users/fwaller/Documents/GHOST/DATA/BPSCS31082/NORM/' #path to reduced spectra\n",
    "specfile = 'ARC_SR_300sx3_20220915_1x1_blue3_sq_arc.fits' # reduced spectrum file\n",
    "camera = 'blue' #set which camera\n",
    "xmin=3400\n",
    "xmax=5500\n",
    "############################################################################################################################\n",
    "\n",
    "############################################################################################################################\n",
    "#USER INPUTS for Cell 2\n",
    "calarcpath = '/Users/fwaller/Documents/GHOST/DATA/BPSCS31082/NORM/calibrations/processed_arc/' #path to the calibration frame. must be tiled 4 quadrants\n",
    "framefile='ARC_HR_300sx3_20220915_1x1_blue3_arc_arraystiled.fits' #2D chip image\n",
    "flat='20220914_flat_rb6s03_1x1_hr_1x1_blue5_flat.fits' #need this to get position model\n",
    "byPixel = False #do you want on-chip pixels lined up vertically?\n",
    "byWvl = True #do you want wavelengths lined up vertically?\n",
    "############################################################################################################################\n"
   ]
  },
  {
   "cell_type": "code",
   "execution_count": null,
   "id": "dbac62d1",
   "metadata": {},
   "outputs": [],
   "source": [
    "# Cell 1\n",
    "\n",
    "%matplotlib notebook\n",
    "\n",
    "#order presets by camera\n",
    "orderref = {'blue':35, 'red':34}\n",
    "mrefdict = {'blue': 80, 'red': 50}\n",
    "ordermindict = {'blue': 64, 'red': 33}\n",
    "\n",
    "plt.figure(figsize=(15,3))\n",
    "ax1 = plt.subplot(111)\n",
    "image = fits.open(specpath+specfile) \n",
    "wavemod = image[4].data  \n",
    "orderwave=[]\n",
    "m_ref = mrefdict[camera]\n",
    "yprimes = np.arange(image[1].data.shape[1])\n",
    "for i in range(orderref[camera]):\n",
    "    m = i + ordermindict[camera]\n",
    "    poly_w_model = np.poly1d([np.poly1d(wavemod[i,:])((m_ref/m)-1) for i in range(len(wavemod[:,0]))])\n",
    "    wave = poly_w_model(yprimes- (yprimes[-1]+1)//2)\n",
    "    orderwave.append(wave)\n",
    "    data = image[1].data[i-1,:,0]\n",
    "    plt.plot(wave,data) \n",
    "plt.xlim(xmin,xmax)\n",
    "plt.show()"
   ]
  },
  {
   "cell_type": "code",
   "execution_count": null,
   "id": "731a0a3d",
   "metadata": {},
   "outputs": [],
   "source": [
    "# Cell 2\n",
    "\n",
    "#comment this next line out if you want to be able to crop other interactive plots. leave it in if you want the plots to take up less space\n",
    "# %matplotlib inline \n",
    "wmin,wmax = ax1.get_xlim() # use this line to grab wavelength limits from a spectrum plot with axes ax1\n",
    "gts.show2dCutout(wmin,wmax, path=calarcpath, file=framefile, flat=flat, camera=camera, pxl=byPixel, wvl=byWvl)"
   ]
  },
  {
   "cell_type": "code",
   "execution_count": null,
   "id": "6d37ffb8",
   "metadata": {},
   "outputs": [],
   "source": []
  }
 ],
 "metadata": {
  "kernelspec": {
   "display_name": "Python 3",
   "language": "python",
   "name": "python3"
  },
  "language_info": {
   "codemirror_mode": {
    "name": "ipython",
    "version": 3
   },
   "file_extension": ".py",
   "mimetype": "text/x-python",
   "name": "python",
   "nbconvert_exporter": "python",
   "pygments_lexer": "ipython3",
   "version": "3.8.8"
  }
 },
 "nbformat": 4,
 "nbformat_minor": 5
}
